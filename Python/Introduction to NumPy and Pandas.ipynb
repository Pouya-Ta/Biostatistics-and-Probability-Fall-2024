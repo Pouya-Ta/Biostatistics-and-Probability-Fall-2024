{
 "cells": [
  {
   "cell_type": "markdown",
   "id": "b0bb99d4",
   "metadata": {},
   "source": [
    "# Lesson 2: Introduction to NumPy and Pandas\n",
    "## Biostatistics and Probability\n",
    "### TA: Pouya Taghipour\n",
    "### Supervisor: Dr. Mehrdad Saviz\n",
    "\n",
    "### <span style=\"color: blue;\">1. What is NumPy?</span>\n",
    "#### <span style=\"color: green;\"><em>Introduction to NumPy</em></span>\n",
    "NumPy is a Python library used for working with arrays. It is highly efficient for numerical computations, which makes it a powerful tool for data manipulation and scientific computing.\n",
    "\n",
    "Installing NumPy\n",
    "Before using NumPy, you need to install it. Run the following command:"
   ]
  },
  {
   "cell_type": "code",
   "execution_count": null,
   "id": "037d5fc7",
   "metadata": {},
   "outputs": [],
   "source": [
    "pip install numpy"
   ]
  },
  {
   "cell_type": "markdown",
   "id": "bb5373ee",
   "metadata": {},
   "source": [
    "### <span style=\"color: blue;\">2. Working with NumPy Arrays</span>\n",
    "#### <span style=\"color: green;\"><em>Creating Arrays</em></span>\n",
    "Arrays are the foundation of NumPy. To create an array, use the numpy.array() function:"
   ]
  },
  {
   "cell_type": "code",
   "execution_count": null,
   "id": "0a8b6549",
   "metadata": {},
   "outputs": [],
   "source": [
    "import numpy as np\n",
    "\n",
    "arr = np.array([1, 2, 3, 4])\n",
    "print(arr)  # Output: [1 2 3 4]"
   ]
  },
  {
   "cell_type": "markdown",
   "id": "a9a06475",
   "metadata": {},
   "source": [
    "<em>Examples:</em>"
   ]
  },
  {
   "cell_type": "code",
   "execution_count": null,
   "id": "47155fce",
   "metadata": {},
   "outputs": [],
   "source": [
    "# Creating a 1D array\n",
    "arr1 = np.array([10, 20, 30])\n",
    "print(arr1)  # Output: [10 20 30]\n",
    "\n",
    "# Creating a 2D array (matrix)\n",
    "arr2 = np.array([[1, 2, 3], [4, 5, 6]])\n",
    "print(arr2)\n",
    "# Output:\n",
    "# [[1 2 3]\n",
    "#  [4 5 6]]\n",
    "\n",
    "# Creating arrays using range\n",
    "arr3 = np.arange(10)\n",
    "print(arr3)  # Output: [0 1 2 3 4 5 6 7 8 9]\n",
    "\n",
    "# Creating an array of zeros\n",
    "arr4 = np.zeros((3, 3))\n",
    "print(arr4)\n",
    "# Output:\n",
    "# [[0. 0. 0.]\n",
    "#  [0. 0. 0.]\n",
    "#  [0. 0. 0.]]\n",
    "\n",
    "# Creating an array of ones\n",
    "arr5 = np.ones((2, 4))\n",
    "print(arr5)\n",
    "# Output:\n",
    "# [[1. 1. 1. 1.]\n",
    "#  [1. 1. 1. 1.]]"
   ]
  },
  {
   "cell_type": "markdown",
   "id": "7c73ae92",
   "metadata": {},
   "source": [
    "### Exercise 1:\n",
    "<span style=\"color: red;\">Task 1:</span>\n",
    "Create a 3x3 array of random integers between 1 and 50.\n",
    "\n",
    "<span style=\"color: red;\">Task 2:</span>\n",
    "Create a 1D array of even numbers between 0 and 20."
   ]
  },
  {
   "cell_type": "code",
   "execution_count": null,
   "id": "f7ca00d6",
   "metadata": {},
   "outputs": [],
   "source": [
    "# Start coding here\n",
    "\n",
    "# End here"
   ]
  },
  {
   "cell_type": "markdown",
   "id": "03d50f07",
   "metadata": {},
   "source": [
    "### <span style=\"color: blue;\">3. Array Operations</span>\n",
    "#### <span style=\"color: green;\"><em>Basic Arithmetic on Arrays</em></span>\n",
    "You can perform element-wise arithmetic operations on NumPy arrays."
   ]
  },
  {
   "cell_type": "code",
   "execution_count": null,
   "id": "0c57cc9f",
   "metadata": {},
   "outputs": [],
   "source": [
    "arr = np.array([1, 2, 3, 4])\n",
    "print(arr + 2)  # Output: [3 4 5 6]\n",
    "print(arr * 3)  # Output: [ 3  6  9 12]"
   ]
  },
  {
   "cell_type": "markdown",
   "id": "410befcc",
   "metadata": {},
   "source": [
    "<em>Examples:</em>"
   ]
  },
  {
   "cell_type": "code",
   "execution_count": null,
   "id": "961a48a9",
   "metadata": {},
   "outputs": [],
   "source": [
    "# Adding two arrays\n",
    "arr1 = np.array([1, 2, 3])\n",
    "arr2 = np.array([4, 5, 6])\n",
    "result = arr1 + arr2\n",
    "print(result)  # Output: [5 7 9]\n",
    "\n",
    "# Multiplying arrays\n",
    "result = arr1 * arr2\n",
    "print(result)  # Output: [4 10 18]\n",
    "\n",
    "# Scalar operations\n",
    "arr = np.array([10, 20, 30])\n",
    "print(arr - 5)  # Output: [ 5 15 25]"
   ]
  },
  {
   "cell_type": "markdown",
   "id": "b7d8d439",
   "metadata": {},
   "source": [
    "#### <span style=\"color: green;\"><em>Matrix Multiplication</em></span>\n",
    "For matrix multiplication, use np.dot():"
   ]
  },
  {
   "cell_type": "code",
   "execution_count": null,
   "id": "bacca903",
   "metadata": {},
   "outputs": [],
   "source": [
    "A = np.array([[1, 2], [3, 4]])\n",
    "B = np.array([[5, 6], [7, 8]])\n",
    "C = np.dot(A, B)\n",
    "print(C)\n",
    "# Output:\n",
    "# [[19 22]\n",
    "#  [43 50]]"
   ]
  },
  {
   "cell_type": "markdown",
   "id": "1219a17a",
   "metadata": {},
   "source": [
    "### Exercise 2:\n",
    "<span style=\"color: red;\">Task 1:</span>\n",
    "Create two 2x2 matrices. Multiply them using both element-wise multiplication and matrix multiplication.\n",
    "\n",
    "<span style=\"color: red;\">Task 2:</span>\n",
    "Create a 1D array and subtract a scalar from each element."
   ]
  },
  {
   "cell_type": "code",
   "execution_count": null,
   "id": "fa88f2f3",
   "metadata": {},
   "outputs": [],
   "source": [
    "# Start coding here\n",
    "\n",
    "# End here"
   ]
  },
  {
   "cell_type": "markdown",
   "id": "5508c497",
   "metadata": {},
   "source": [
    "### <span style=\"color: blue;\">4. Array Indexing and Slicing</span>\n",
    "#### <span style=\"color: green;\"><em>Accessing Elements</em></span>\n",
    "You can access array elements using indices:"
   ]
  },
  {
   "cell_type": "code",
   "execution_count": null,
   "id": "21abd8c5",
   "metadata": {},
   "outputs": [],
   "source": [
    "arr = np.array([10, 20, 30, 40])\n",
    "print(arr[0])  # Output: 10"
   ]
  },
  {
   "cell_type": "markdown",
   "id": "13da753d",
   "metadata": {},
   "source": [
    "<em>Examples:</em>"
   ]
  },
  {
   "cell_type": "code",
   "execution_count": null,
   "id": "47d5c2eb",
   "metadata": {},
   "outputs": [],
   "source": [
    "# Accessing 2D array elements\n",
    "arr2 = np.array([[1, 2], [3, 4], [5, 6]])\n",
    "print(arr2[0, 1])  # Output: 2\n",
    "print(arr2[2, 0])  # Output: 5\n",
    "\n",
    "# Slicing arrays\n",
    "arr = np.array([0, 1, 2, 3, 4, 5])\n",
    "print(arr[1:4])  # Output: [1 2 3]\n",
    "\n",
    "# Slicing 2D arrays\n",
    "print(arr2[1:, :1])  # Output: [[3], [5]]"
   ]
  },
  {
   "cell_type": "markdown",
   "id": "a52fc959",
   "metadata": {},
   "source": [
    "### Exercise 3:\n",
    "<span style=\"color: red;\">Task 1:</span>\n",
    "Create a 3x3 matrix and print the second row and the third column.\n",
    "\n",
    "<span style=\"color: red;\">Task 2:</span>\n",
    "Slice a 1D array to print only the even-indexed elements."
   ]
  },
  {
   "cell_type": "code",
   "execution_count": null,
   "id": "7ce819bb",
   "metadata": {},
   "outputs": [],
   "source": [
    "# Start coding here\n",
    "\n",
    "# End here"
   ]
  },
  {
   "cell_type": "markdown",
   "id": "a1760f03",
   "metadata": {},
   "source": [
    "### <span style=\"color: blue;\">5. Introduction to Pandas</span>\n",
    "#### <span style=\"color: green;\"><em>What is Pandas?</em></span>\n",
    "Pandas is a library used for data manipulation and analysis. It provides powerful data structures like Series and DataFrame for handling labeled data.\n",
    "\n",
    "Installing Pandas\n",
    "Run the following command to install Pandas:"
   ]
  },
  {
   "cell_type": "code",
   "execution_count": null,
   "id": "5a07e4c7",
   "metadata": {},
   "outputs": [],
   "source": [
    "pip install pandas"
   ]
  },
  {
   "cell_type": "markdown",
   "id": "779419f5",
   "metadata": {},
   "source": [
    "### <span style=\"color: blue;\">6. Pandas Series</span>\n",
    "#### <span style=\"color: green;\"><em>Creating a Series</em></span>\n",
    "A Series is like a column of data with an index:"
   ]
  },
  {
   "cell_type": "code",
   "execution_count": null,
   "id": "9db2c393",
   "metadata": {},
   "outputs": [],
   "source": [
    "import pandas as pd\n",
    "\n",
    "s = pd.Series([10, 20, 30, 40])\n",
    "print(s)"
   ]
  },
  {
   "cell_type": "markdown",
   "id": "9616eec5",
   "metadata": {},
   "source": [
    "<em>Examples:</em>"
   ]
  },
  {
   "cell_type": "code",
   "execution_count": null,
   "id": "385734a5",
   "metadata": {},
   "outputs": [],
   "source": [
    "# Creating a Series with custom index\n",
    "s = pd.Series([100, 200, 300], index=[\"a\", \"b\", \"c\"])\n",
    "print(s)\n",
    "# Output:\n",
    "# a    100\n",
    "# b    200\n",
    "# c    300\n",
    "# dtype: int64\n",
    "\n",
    "# Accessing elements by index\n",
    "print(s[\"a\"])  # Output: 100"
   ]
  },
  {
   "cell_type": "markdown",
   "id": "38e66dc7",
   "metadata": {},
   "source": [
    "### Exercise 4:\n",
    "<span style=\"color: red;\">Task 1:</span>\n",
    "Create a Series of 5 random numbers with custom indices. Access the value at the third index.\n",
    "\n",
    "<span style=\"color: red;\">Task 2:</span>\n",
    "Create a Series with numbers from 1 to 5. Multiply each element by 2."
   ]
  },
  {
   "cell_type": "code",
   "execution_count": null,
   "id": "8ac60e3a",
   "metadata": {},
   "outputs": [],
   "source": [
    "# Start coding here\n",
    "\n",
    "# End here"
   ]
  },
  {
   "cell_type": "markdown",
   "id": "e5938928",
   "metadata": {},
   "source": [
    "### <span style=\"color: blue;\">7. Pandas DataFrame</span>\n",
    "#### <span style=\"color: green;\"><em>Creating a DataFrame</em></span>\n",
    "A DataFrame is a 2D labeled data structure similar to a table:"
   ]
  },
  {
   "cell_type": "code",
   "execution_count": null,
   "id": "fc9b3377",
   "metadata": {},
   "outputs": [],
   "source": [
    "data = {\n",
    "    \"Name\": [\"Alice\", \"Bob\", \"Charlie\"],\n",
    "    \"Age\": [25, 30, 35],\n",
    "    \"City\": [\"New York\", \"Los Angeles\", \"Chicago\"]\n",
    "}\n",
    "df = pd.DataFrame(data)\n",
    "print(df)"
   ]
  },
  {
   "cell_type": "markdown",
   "id": "a21dafcd",
   "metadata": {},
   "source": [
    "<em>Examples:</em>"
   ]
  },
  {
   "cell_type": "code",
   "execution_count": null,
   "id": "f69db3f0",
   "metadata": {},
   "outputs": [],
   "source": [
    "# Accessing columns\n",
    "print(df[\"Name\"])  # Output: Alice, Bob, Charlie\n",
    "\n",
    "# Accessing rows by index\n",
    "print(df.iloc[1])  # Output: Bob's row\n",
    "\n",
    "# Adding a new column\n",
    "df[\"Salary\"] = [50000, 60000, 70000]\n",
    "print(df)"
   ]
  },
  {
   "cell_type": "markdown",
   "id": "c5cde582",
   "metadata": {},
   "source": [
    "### Exercise 5:\n",
    "<span style=\"color: red;\">Task 1:</span>\n",
    "Create a DataFrame with 3 columns: Product, Price, and Quantity. Add a new column for Total Price which multiplies Price and Quantity.\n",
    "\n",
    "<span style=\"color: red;\">Task 2:</span>\n",
    "Create a DataFrame of students with their grades in three subjects. Calculate the average grade for each student and add it as a new column."
   ]
  },
  {
   "cell_type": "code",
   "execution_count": null,
   "id": "1fd7a730",
   "metadata": {},
   "outputs": [],
   "source": [
    "# Start coding here\n",
    "\n",
    "# End here"
   ]
  },
  {
   "cell_type": "markdown",
   "id": "79f14a05",
   "metadata": {},
   "source": [
    "### <span style=\"color: blue;\">8. DataFrame Operations</span>\n",
    "#### <span style=\"color: green;\"><em>Basic Operations</em></span>\n",
    "You can perform operations on entire columns or rows of a DataFrame:"
   ]
  },
  {
   "cell_type": "code",
   "execution_count": null,
   "id": "894e04f0",
   "metadata": {},
   "outputs": [],
   "source": [
    "# Adding a new column based on existing columns\n",
    "df[\"Discounted Price\"] = df[\"Price\"] * 0.9\n",
    "print(df)"
   ]
  },
  {
   "cell_type": "markdown",
   "id": "1ab7653a",
   "metadata": {},
   "source": [
    "<em>Examples:</em>"
   ]
  },
  {
   "cell_type": "code",
   "execution_count": null,
   "id": "151e37bf",
   "metadata": {},
   "outputs": [],
   "source": [
    "# Filtering rows based on a condition\n",
    "discounted_df = df[df[\"Discounted Price\"] > 25]\n",
    "print(discounted_df)\n",
    "\n",
    "# Sorting the DataFrame by a column\n",
    "sorted_df = df.sort_values(by=\"Price\")\n",
    "print(sorted_df)\n",
    "\n",
    "# Summing column values\n",
    "total_quantity = df[\"Quantity\"].sum()\n",
    "print(f\"Total Quantity: {total_quantity}\")"
   ]
  },
  {
   "cell_type": "markdown",
   "id": "8f278af7",
   "metadata": {},
   "source": [
    "### Exercise 6:\n",
    "<span style=\"color: red;\">Task 1:</span>\n",
    "Create a DataFrame of employees with columns Name, Age, Salary. Add a new column Bonus that is 10% of the Salary.\n",
    "\n",
    "<span style=\"color: red;\">Task 2:</span>\n",
    "Filter the employees whose Salary is greater than 50,000 and sort the DataFrame by Age."
   ]
  },
  {
   "cell_type": "code",
   "execution_count": null,
   "id": "e2739b82",
   "metadata": {},
   "outputs": [],
   "source": [
    "# Start coding here\n",
    "\n",
    "# End here"
   ]
  },
  {
   "cell_type": "markdown",
   "id": "b3acef89",
   "metadata": {},
   "source": [
    "### <span style=\"color: blue;\">9. Reading and Writing Data with Pandas</span>\n",
    "#### <span style=\"color: green;\"><em>Reading Data from CSV Files</em></span>\n",
    "Pandas makes it easy to load data from external sources like CSV files. Use pd.read_csv() to load data from a CSV file:"
   ]
  },
  {
   "cell_type": "code",
   "execution_count": null,
   "id": "71ebfccb",
   "metadata": {},
   "outputs": [],
   "source": [
    "# Reading a CSV file\n",
    "df = pd.read_csv(\"data.csv\")\n",
    "print(df.head())"
   ]
  },
  {
   "cell_type": "markdown",
   "id": "55a1d5f0",
   "metadata": {},
   "source": [
    "<em>Examples:</em>"
   ]
  },
  {
   "cell_type": "code",
   "execution_count": null,
   "id": "3b79dd47",
   "metadata": {},
   "outputs": [],
   "source": [
    "# Reading data from a CSV file\n",
    "df = pd.read_csv(\"students.csv\")\n",
    "print(df)\n",
    "\n",
    "# Saving a DataFrame to a CSV file\n",
    "df.to_csv(\"updated_students.csv\", index=False)\n",
    "\n",
    "# Reading data from an Excel file\n",
    "df_excel = pd.read_excel(\"grades.xlsx\")\n",
    "print(df_excel)"
   ]
  },
  {
   "cell_type": "markdown",
   "id": "7951f714",
   "metadata": {},
   "source": [
    "### Exercise 7:\n",
    "<span style=\"color: red;\">Task 1:</span>\n",
    "Read data from a CSV file and print the first 5 rows.\n",
    "\n",
    "<span style=\"color: red;\">Task 2:</span>\n",
    "Save a DataFrame with columns Product, Price, Quantity to a new CSV file."
   ]
  },
  {
   "cell_type": "code",
   "execution_count": null,
   "id": "2491217c",
   "metadata": {},
   "outputs": [],
   "source": [
    "# Start coding here\n",
    "\n",
    "# End here"
   ]
  },
  {
   "cell_type": "markdown",
   "id": "f5a0ca26",
   "metadata": {},
   "source": [
    "### <span style=\"color: blue;\">10. Grouping and Aggregating Data</span>\n",
    "#### <span style=\"color: green;\"><em>GroupBy Function</em></span>\n",
    "You can group data using the groupby() function, which is useful for aggregating data."
   ]
  },
  {
   "cell_type": "code",
   "execution_count": null,
   "id": "09816076",
   "metadata": {},
   "outputs": [],
   "source": [
    "# Grouping data by a column\n",
    "grouped = df.groupby(\"City\")[\"Salary\"].mean()\n",
    "print(grouped)"
   ]
  },
  {
   "cell_type": "markdown",
   "id": "d5dbed1d",
   "metadata": {},
   "source": [
    "<em>Examples:</em>"
   ]
  },
  {
   "cell_type": "code",
   "execution_count": null,
   "id": "e32c5c29",
   "metadata": {},
   "outputs": [],
   "source": [
    "# Grouping by multiple columns\n",
    "grouped = df.groupby([\"City\", \"Age\"])[\"Salary\"].sum()\n",
    "print(grouped)\n",
    "\n",
    "# Aggregating using multiple functions\n",
    "agg_df = df.groupby(\"City\").agg({\"Salary\": [\"mean\", \"max\"], \"Age\": \"min\"})\n",
    "print(agg_df)"
   ]
  },
  {
   "cell_type": "markdown",
   "id": "91b8c16c",
   "metadata": {},
   "source": [
    "### Exercise 8:\n",
    "<span style=\"color: red;\">Task 1:</span>\n",
    "Create a DataFrame of sales data with City, Salesperson, and Amount. Group the data by City and calculate the total Amount for each city.\n",
    "\n",
    "<span style=\"color: red;\">Task 2:</span>\n",
    "Group a DataFrame by Department and calculate the average salary for each department."
   ]
  },
  {
   "cell_type": "code",
   "execution_count": null,
   "id": "de2f32d5",
   "metadata": {},
   "outputs": [],
   "source": [
    "# Start coding here\n",
    "\n",
    "# End here"
   ]
  },
  {
   "cell_type": "markdown",
   "id": "f7835e22",
   "metadata": {},
   "source": [
    "### <span style=\"color: blue;\">11. Merging and Concatenating DataFrames</span>\n",
    "#### <span style=\"color: green;\"><em>Concatenating DataFrames</em></span>\n",
    "You can concatenate DataFrames along rows or columns using pd.concat():"
   ]
  },
  {
   "cell_type": "code",
   "execution_count": null,
   "id": "58b5281d",
   "metadata": {},
   "outputs": [],
   "source": [
    "df1 = pd.DataFrame({\"A\": [1, 2], \"B\": [3, 4]})\n",
    "df2 = pd.DataFrame({\"A\": [5, 6], \"B\": [7, 8]})\n",
    "\n",
    "# Concatenating along rows\n",
    "df_concat = pd.concat([df1, df2], axis=0)\n",
    "print(df_concat)"
   ]
  },
  {
   "cell_type": "markdown",
   "id": "98edeb37",
   "metadata": {},
   "source": [
    "<em>Examples:</em>"
   ]
  },
  {
   "cell_type": "code",
   "execution_count": null,
   "id": "b9da2e3f",
   "metadata": {},
   "outputs": [],
   "source": [
    "# Concatenating along columns\n",
    "df_concat = pd.concat([df1, df2], axis=1)\n",
    "print(df_concat)\n",
    "\n",
    "# Merging DataFrames using a common column\n",
    "left = pd.DataFrame({\"key\": [\"A\", \"B\", \"C\"], \"value\": [1, 2, 3]})\n",
    "right = pd.DataFrame({\"key\": [\"A\", \"B\", \"D\"], \"value2\": [4, 5, 6]})\n",
    "\n",
    "merged_df = pd.merge(left, right, on=\"key\", how=\"inner\")\n",
    "print(merged_df)"
   ]
  },
  {
   "cell_type": "markdown",
   "id": "2af64767",
   "metadata": {},
   "source": [
    "### Exercise 9:\n",
    "<span style=\"color: red;\">Task 1:</span>\n",
    "Concatenate two DataFrames containing students’ names and grades in two different subjects.\n",
    "\n",
    "<span style=\"color: red;\">Task 2:</span>\n",
    "Merge two DataFrames: one containing employee data and another containing department information. Use the employee ID to merge."
   ]
  },
  {
   "cell_type": "code",
   "execution_count": null,
   "id": "d39521f0",
   "metadata": {},
   "outputs": [],
   "source": [
    "# Start coding here\n",
    "\n",
    "# End here"
   ]
  },
  {
   "cell_type": "markdown",
   "id": "b99db9a0",
   "metadata": {},
   "source": [
    "## Conclusion\n",
    "In this lesson, we covered the essential operations in NumPy and Pandas that will serve as the foundation for statistical and probability-related tasks in the next lesson. We explored:\n",
    "\n",
    "* NumPy arrays and operations,\n",
    "* Pandas Series and DataFrames,\n",
    "* Reading, writing, grouping, and merging data.\n",
    "\n",
    "Ensure you've understood each concept and completed the exercises. In the next session, we’ll focus on using these libraries in statistical applications."
   ]
  },
  {
   "cell_type": "code",
   "execution_count": null,
   "id": "38159c8f",
   "metadata": {},
   "outputs": [],
   "source": []
  }
 ],
 "metadata": {
  "kernelspec": {
   "display_name": "Python 3 (ipykernel)",
   "language": "python",
   "name": "python3"
  },
  "language_info": {
   "codemirror_mode": {
    "name": "ipython",
    "version": 3
   },
   "file_extension": ".py",
   "mimetype": "text/x-python",
   "name": "python",
   "nbconvert_exporter": "python",
   "pygments_lexer": "ipython3",
   "version": "3.10.9"
  }
 },
 "nbformat": 4,
 "nbformat_minor": 5
}
