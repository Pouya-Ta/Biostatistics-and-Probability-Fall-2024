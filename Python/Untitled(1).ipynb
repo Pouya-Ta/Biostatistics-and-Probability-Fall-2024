{
 "cells": [
  {
   "cell_type": "markdown",
   "id": "e8594ab9",
   "metadata": {},
   "source": [
    "# Lesson 1: Python Basics\n",
    "## Biostatistics and Probability\n",
    "### TA: Pouya Taghipour\n",
    "### Supervisor: Dr. Mehrdad Saviz\n",
    "\n",
    "## <span style=\"color: blue;\">1. Introduction to Python</span>\n",
    "### <span style=\"color: green;\"><em>What is Python?</em></span>\n",
    "Python is a versatile programming language, widely used for web development, automation, data analysis, scientific research, and more."
   ]
  },
  {
   "cell_type": "markdown",
   "id": "8ecd31d9",
   "metadata": {},
   "source": [
    "## <span style=\"color: blue;\">2. Installing Python</span>\n",
    "### <span style=\"color: green;\"><em>Installing Python</em></span>\n",
    "Steps to install Python:\n",
    "\n",
    "1. Download Python from the official website.\n",
    "2. Install Jupyter by running:\n",
    "\n",
    "```\n",
    "# pip install notebook\n",
    "```\n",
    "\n",
    "<em>Example:</em>\n",
    "\n",
    "After installing Python and Jupyter, launch a notebook by typing:\n",
    "```\n",
    "# jupyter notebook\n",
    "```"
   ]
  },
  {
   "cell_type": "markdown",
   "id": "aa36bf00",
   "metadata": {},
   "source": [
    "## <span style=\"color: blue;\">3. Python Syntax and Variables</span>\n",
    "### <span style=\"color: green;\"><em>Comments in Python</em></span>\n",
    "You can add comments to explain your code. They are ignored by Python:"
   ]
  },
  {
   "cell_type": "code",
   "execution_count": null,
   "id": "8375e74b",
   "metadata": {},
   "outputs": [],
   "source": [
    "# This is a single-line comment\n",
    "\n",
    "'''\n",
    "This is a multi-line comment.\n",
    "It spans multiple lines.\n",
    "'''"
   ]
  },
  {
   "cell_type": "markdown",
   "id": "55126cb3",
   "metadata": {},
   "source": [
    "### <span style=\"color: green;\"><em>Variables</em></span>\n",
    "Variables store data for later use. Python doesn’t require explicit type declaration:"
   ]
  },
  {
   "cell_type": "code",
   "execution_count": null,
   "id": "6355321d",
   "metadata": {},
   "outputs": [],
   "source": [
    "x = 10  # integer\n",
    "y = 3.14  # float\n",
    "name = \"Pouya\"  # string\n",
    "is_active = True  # boolean"
   ]
  },
  {
   "cell_type": "markdown",
   "id": "edd8bd33",
   "metadata": {},
   "source": [
    "<em>Examples:</em>"
   ]
  },
  {
   "cell_type": "code",
   "execution_count": null,
   "id": "1023c1ce",
   "metadata": {},
   "outputs": [],
   "source": [
    "# Basic variable usage\n",
    "a = 5\n",
    "b = a * 2\n",
    "print(b)  # Output: 10\n",
    "\n",
    "# String variables\n",
    "greeting = \"Hello\"\n",
    "subject = \"World\"\n",
    "message = greeting + \" \" + subject\n",
    "print(message)  # Output: Hello World\n",
    "\n",
    "# Boolean variables\n",
    "is_sunny = False\n",
    "if is_sunny:\n",
    "    print(\"It's sunny today!\")\n",
    "else:\n",
    "    print(\"It's cloudy today.\")  # Output: It's cloudy today.\n",
    "\n",
    "# Reassigning variables\n",
    "x = 50\n",
    "x = x + 25  # Now, x is 75"
   ]
  },
  {
   "cell_type": "markdown",
   "id": "327224cc",
   "metadata": {},
   "source": [
    "#### Exercise 1:\n",
    "<span style=\"color: red;\">Task 1:</span>\n",
    "Create two variables first_name and last_name. Print them, then create a variable full_name that combines both names.\n",
    "\n",
    "<span style=\"color: red;\">Task 2:</span>\n",
    "Create a variable that stores your birth year. Subtract it from the current year to calculate your age, then print it.\n",
    "\n",
    "<span style=\"color: red;\">Task 3:</span>\n",
    "Define two boolean variables has_license and is_over_18. Write a program that prints whether someone can drive based on these two conditions."
   ]
  },
  {
   "cell_type": "code",
   "execution_count": null,
   "id": "f9c40c35",
   "metadata": {},
   "outputs": [],
   "source": [
    "# Start here\n",
    "\n",
    "# End here"
   ]
  },
  {
   "cell_type": "markdown",
   "id": "533ac2f8",
   "metadata": {},
   "source": [
    "## <span style=\"color: blue;\">4. Data Types</span>\n",
    "### <span style=\"color: green;\"><em>Basic Data Types</em></span>\n",
    "Python supports multiple data types:\n",
    "\n",
    "* int: Whole numbers (e.g., 5, 100)\n",
    "* float: Decimal numbers (e.g., 3.14, -1.5)\n",
    "* str: Strings of text (e.g., \"Hello\", \"Python\")\n",
    "* bool: Boolean values (True, False)\n",
    "\n",
    "<em>Examples:</em>"
   ]
  },
  {
   "cell_type": "code",
   "execution_count": null,
   "id": "771252a5",
   "metadata": {},
   "outputs": [],
   "source": [
    "# Integers\n",
    "age = 25\n",
    "distance = 1000\n",
    "\n",
    "# Floats\n",
    "pi = 3.1415\n",
    "temperature = 36.6\n",
    "\n",
    "# Strings\n",
    "name = \"Ali\"\n",
    "message = \"Welcome to Python!\"\n",
    "\n",
    "# Booleans\n",
    "is_student = True\n",
    "is_sunny = False\n",
    "\n",
    "# Mixing data types\n",
    "combined = \"Age: \" + str(age) + \", Pi: \" + str(pi)\n",
    "print(combined)  # Output: Age: 25, Pi: 3.1415"
   ]
  },
  {
   "cell_type": "markdown",
   "id": "38908a83",
   "metadata": {},
   "source": [
    "### <span style=\"color: green;\"><em>Type Conversion</em></span>\n",
    "Convert between data types when necessary:"
   ]
  },
  {
   "cell_type": "code",
   "execution_count": null,
   "id": "cbe67ce7",
   "metadata": {},
   "outputs": [],
   "source": [
    "x = \"10\"\n",
    "y = int(x)  # Converts string to integer\n",
    "\n",
    "z = 3.14\n",
    "w = int(z)  # Converts float to integer, truncating decimal part"
   ]
  },
  {
   "cell_type": "markdown",
   "id": "508f7800",
   "metadata": {},
   "source": [
    "<em>Examples:</em>"
   ]
  },
  {
   "cell_type": "code",
   "execution_count": null,
   "id": "8cd5e125",
   "metadata": {},
   "outputs": [],
   "source": [
    "# String to integer\n",
    "user_input = \"25\"\n",
    "age = int(user_input)  # Now, age is an integer\n",
    "\n",
    "# Float to integer\n",
    "pi = 3.14159\n",
    "rounded_pi = int(pi)  # Now, rounded_pi is 3\n",
    "\n",
    "# Integer to string\n",
    "num = 100\n",
    "num_str = str(num)  # Now, num_str is \"100\""
   ]
  },
  {
   "cell_type": "markdown",
   "id": "db3a5516",
   "metadata": {},
   "source": [
    "### <span style=\"color: green;\"><em>Input from Users</em></span>\n",
    "You can get input from users using the input() function:"
   ]
  },
  {
   "cell_type": "code",
   "execution_count": null,
   "id": "a58b70a9",
   "metadata": {},
   "outputs": [],
   "source": [
    "name = input(\"Enter your name: \")\n",
    "print(f\"Hello, {name}\")"
   ]
  },
  {
   "cell_type": "markdown",
   "id": "9f4e7037",
   "metadata": {},
   "source": [
    "#### Exercise 2:\n",
    "<span style=\"color: red;\">Task 1:</span>\n",
    "Ask the user to input two numbers. Convert them to floats and multiply them.\n",
    "\n",
    "<span style=\"color: red;\">Task 2:</span>\n",
    "Ask the user for their birth year and calculate their current age.\n",
    "\n",
    "<span style=\"color: red;\">Task 3:</span>\n",
    "Take a string input from the user and print its length and the first and last characters."
   ]
  },
  {
   "cell_type": "code",
   "execution_count": null,
   "id": "273ff6aa",
   "metadata": {},
   "outputs": [],
   "source": [
    "# Start code here\n",
    "\n",
    "# End code here"
   ]
  },
  {
   "cell_type": "markdown",
   "id": "2db5b55b",
   "metadata": {},
   "source": [
    "## <span style=\"color: blue;\">5. Control Flow: if, elif, else</span>\n",
    "### <span style=\"color: green;\"><em>Conditionals</em></span>\n",
    "Control the program's flow using if, elif, and else:"
   ]
  },
  {
   "cell_type": "code",
   "execution_count": null,
   "id": "4687fd45",
   "metadata": {},
   "outputs": [],
   "source": [
    "if x > 0:\n",
    "    print(\"Positive\")\n",
    "elif x == 0:\n",
    "    print(\"Zero\")\n",
    "else:\n",
    "    print(\"Negative\")"
   ]
  },
  {
   "cell_type": "markdown",
   "id": "527fae7d",
   "metadata": {},
   "source": [
    "<em>Examples:</em>"
   ]
  },
  {
   "cell_type": "code",
   "execution_count": null,
   "id": "2d17bf40",
   "metadata": {},
   "outputs": [],
   "source": [
    "# Example 1: Simple condition\n",
    "score = 85\n",
    "if score >= 90:\n",
    "    print(\"A\")\n",
    "elif score >= 80:\n",
    "    print(\"B\")  # Output: B\n",
    "else:\n",
    "    print(\"C\")\n",
    "\n",
    "# Example 2: Nested conditions\n",
    "age = 20\n",
    "if age >= 18:\n",
    "    if age >= 21:\n",
    "        print(\"You can vote and drink.\")\n",
    "    else:\n",
    "        print(\"You can vote but not drink.\")  # Output: You can vote but not drink.\n",
    "else:\n",
    "    print(\"You're too young to vote.\")"
   ]
  },
  {
   "cell_type": "markdown",
   "id": "c0aabfe5",
   "metadata": {},
   "source": [
    "#### Exercise 3:\n",
    "<span style=\"color: red;\">Task 1:</span>\n",
    "Write a program that asks for the user’s age and checks if they can vote (18 or older) and drink alcohol (21 or older).\n",
    "\n",
    "<span style=\"color: red;\">Task 2:</span>\n",
    "Write a program that asks the user for a number and prints whether it is divisible by 2, 3, both, or neither.\n",
    "\n"
   ]
  },
  {
   "cell_type": "code",
   "execution_count": null,
   "id": "44c521c9",
   "metadata": {},
   "outputs": [],
   "source": [
    "# Start here\n",
    "\n",
    "# End here"
   ]
  },
  {
   "cell_type": "markdown",
   "id": "89ee0324",
   "metadata": {},
   "source": [
    "## <span style=\"color: blue;\">6. Loops: for, while</span>\n",
    "### <span style=\"color: green;\"><em>For Loop</em></span>\n",
    "A for loop repeats for a fixed number of iterations:"
   ]
  },
  {
   "cell_type": "code",
   "execution_count": null,
   "id": "b95d486b",
   "metadata": {},
   "outputs": [],
   "source": [
    "for i in range(5):\n",
    "    print(i)  # Output: 0, 1, 2, 3, 4"
   ]
  },
  {
   "cell_type": "markdown",
   "id": "48838064",
   "metadata": {},
   "source": [
    "<em>Examples:</em>"
   ]
  },
  {
   "cell_type": "code",
   "execution_count": null,
   "id": "f41cafc2",
   "metadata": {},
   "outputs": [],
   "source": [
    "# Example 1: Iterating over a list\n",
    "fruits = [\"apple\", \"banana\", \"cherry\"]\n",
    "for fruit in fruits:\n",
    "    print(fruit)\n",
    "\n",
    "# Example 2: Summing numbers\n",
    "total = 0\n",
    "for i in range(1, 6):\n",
    "    total += i  # Adds numbers from 1 to 5\n",
    "print(total)  # Output: 15\n",
    "\n",
    "# Example 3: Nested loops\n",
    "for i in range(3):\n",
    "    for j in range(2):\n",
    "        print(f\"i={i}, j={j}\")"
   ]
  },
  {
   "cell_type": "markdown",
   "id": "b1e0af3e",
   "metadata": {},
   "source": [
    "#### Exercise 4:\n",
    "<span style=\"color: red;\">Task 1:</span>\n",
    "Write a for loop that prints all even numbers between 1 and 20.\n",
    "\n",
    "<span style=\"color: red;\">Task 2:</span>\n",
    "Create a while loop that keeps asking the user for a password until they enter the correct one."
   ]
  },
  {
   "cell_type": "code",
   "execution_count": null,
   "id": "0202171d",
   "metadata": {},
   "outputs": [],
   "source": [
    "# Start here\n",
    "\n",
    "# End here"
   ]
  },
  {
   "cell_type": "markdown",
   "id": "39ed4a29",
   "metadata": {},
   "source": [
    "## <span style=\"color: blue;\">7. Functions</span>\n",
    "### <span style=\"color: green;\"><em>Defining Functions</em></span>\n",
    "A function is a reusable block of code. Define it with the def keyword:"
   ]
  },
  {
   "cell_type": "code",
   "execution_count": null,
   "id": "3db6aa0e",
   "metadata": {},
   "outputs": [],
   "source": [
    "def greet(name):\n",
    "    print(f\"Hello, {name}\")"
   ]
  },
  {
   "cell_type": "markdown",
   "id": "00d38696",
   "metadata": {},
   "source": [
    "<em>Examples:</em>"
   ]
  },
  {
   "cell_type": "code",
   "execution_count": null,
   "id": "97f64c0f",
   "metadata": {},
   "outputs": [],
   "source": [
    "# Example 1: Simple function\n",
    "def greet():\n",
    "    print(\"Hello!\")\n",
    "greet()  # Output: Hello!\n",
    "\n",
    "# Example 2: Function with parameters\n",
    "def greet_person(name):\n",
    "    print(f\"Hello, {name}!\")\n",
    "greet_person(\"Alice\")  # Output: Hello, Alice!\n",
    "\n",
    "# Example 3: Returning values\n",
    "def square(num):\n",
    "    return num ** 2\n",
    "result = square(4)\n",
    "print(result)  # Output: 16"
   ]
  },
  {
   "cell_type": "markdown",
   "id": "2fb2b117",
   "metadata": {},
   "source": [
    "#### Exercise 5:\n",
    "<span style=\"color: red;\">Task 1:</span>\n",
    "Write a function that takes two numbers and returns their product.\n",
    "\n",
    "<span style=\"color: red;\">Task 2:</span>\n",
    "Write a function that takes a string and returns the number of vowels in it."
   ]
  },
  {
   "cell_type": "code",
   "execution_count": null,
   "id": "32347a6a",
   "metadata": {},
   "outputs": [],
   "source": [
    "# Start here\n",
    "\n",
    "# End here"
   ]
  },
  {
   "cell_type": "markdown",
   "id": "8d7406a8",
   "metadata": {},
   "source": [
    "## Our next session's work?\n",
    "* Numpy\n",
    "* Pandas\n",
    "* Matplotlib\n",
    "* Seaborn\n",
    "* etc"
   ]
  }
 ],
 "metadata": {
  "kernelspec": {
   "display_name": "Python 3 (ipykernel)",
   "language": "python",
   "name": "python3"
  },
  "language_info": {
   "codemirror_mode": {
    "name": "ipython",
    "version": 3
   },
   "file_extension": ".py",
   "mimetype": "text/x-python",
   "name": "python",
   "nbconvert_exporter": "python",
   "pygments_lexer": "ipython3",
   "version": "3.10.9"
  }
 },
 "nbformat": 4,
 "nbformat_minor": 5
}
